{
 "cells": [
  {
   "cell_type": "code",
   "execution_count": 3,
   "id": "35b3ff52-41a6-4b79-971d-84b107849129",
   "metadata": {},
   "outputs": [
    {
     "name": "stdout",
     "output_type": "stream",
     "text": [
      "Output of the network: [0.7052908176274535, 0.5982964191947293]\n"
     ]
    }
   ],
   "source": [
    "import random\n",
    "\n",
    "def exp(x, terms=10):\n",
    "    result = 1\n",
    "    factorial = 1\n",
    "    power = 1\n",
    "    for i in range(1, terms):\n",
    "        factorial *= i\n",
    "        power *= x\n",
    "        result += power / factorial\n",
    "    return result\n",
    "\n",
    "def tanh(x):\n",
    "    e_pos = exp(x)\n",
    "    e_neg = exp(-x)\n",
    "    return (e_pos - e_neg) / (e_pos + e_neg)\n",
    "\n",
    "def dot_product(w, x):\n",
    "    return sum(w[i] * x[i] for i in range(len(w)))\n",
    "\n",
    "def forward_pass(x, w1, w2, b1, b2):\n",
    "    z1 = [dot_product(w1[i], x) + b1 for i in range(len(w1))]\n",
    "    a1 = [tanh(z) for z in z1]\n",
    "    \n",
    "    z2 = [dot_product(w2[i], a1) + b2 for i in range(len(w2))]\n",
    "    a2 = [tanh(z) for z in z2]\n",
    "    \n",
    "    return a2\n",
    "\n",
    "random.seed(42)\n",
    "input_size = 2\n",
    "hidden_size = 2\n",
    "output_size = 2\n",
    "w1 = [[random.uniform(-0.5, 0.5) for _ in range(input_size)] for _ in range(hidden_size)]\n",
    "w2 = [[random.uniform(-0.5, 0.5) for _ in range(hidden_size)] for _ in range(output_size)]\n",
    "\n",
    "b1 = 0.5\n",
    "b2 = 0.7\n",
    "\n",
    "test_input = [0.05, 0.10]\n",
    "\n",
    "output = forward_pass(test_input, w1, w2, b1, b2)\n",
    "print(\"Output of the network:\", output)\n"
   ]
  },
  {
   "cell_type": "code",
   "execution_count": null,
   "id": "55b84bbc-bace-41d3-a9c8-8005dd06cf13",
   "metadata": {},
   "outputs": [],
   "source": []
  }
 ],
 "metadata": {
  "kernelspec": {
   "display_name": "Python 3 (ipykernel)",
   "language": "python",
   "name": "python3"
  },
  "language_info": {
   "codemirror_mode": {
    "name": "ipython",
    "version": 3
   },
   "file_extension": ".py",
   "mimetype": "text/x-python",
   "name": "python",
   "nbconvert_exporter": "python",
   "pygments_lexer": "ipython3",
   "version": "3.11.3"
  }
 },
 "nbformat": 4,
 "nbformat_minor": 5
}
